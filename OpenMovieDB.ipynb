{
 "cells": [
  {
   "cell_type": "code",
   "execution_count": 4,
   "metadata": {},
   "outputs": [],
   "source": [
    "import requests\n",
    "import json\n",
    "from pprint import pprint\n",
    "\n",
    "from api_keys import movie_key"
   ]
  },
  {
   "cell_type": "code",
   "execution_count": 5,
   "metadata": {},
   "outputs": [],
   "source": [
    "url = \"http://www.omdbapi.com/?t=\"\n",
    "api_key = \"&apikey=\" + movie_key\n",
    "movie_name = ''"
   ]
  },
  {
   "cell_type": "code",
   "execution_count": null,
   "metadata": {},
   "outputs": [],
   "source": [
    "movie_list = ['Norm of the North: King Sized Adventure',\n",
    "              'Jandino: Whatever it Takes',\n",
    "              'Transformers Prime',\n",
    "              'Transformers: Robots in Disguise',\n",
    "              '#realityhigh',\n",
    "              'Apaches',\n",
    "              'Automata',\n",
    "              'Fabrizio Copano: Solo pienso en mi',\n",
    "              'Fire Chasers',\n",
    "              'Good People',\n",
    "              'JoaquÃ­n Reyes: Una y no mÃ¡s',\n",
    "              'Kidnapping Mr. Heineken',\n",
    "              'Krish Trish and Baltiboy',\n",
    "              'Krish Trish and Baltiboy: Battle of Wits',\n",
    "              'Krish Trish and Baltiboy: Best Friends Forever',\n",
    "              'Krish Trish and Baltiboy: Comics of India',\n",
    "              'Krish Trish and Baltiboy: Oversmartness Never Pays',\n",
    "              'Krish Trish and Baltiboy: Part II',\n",
    "              'Krish Trish and Baltiboy: The Greatest Trick']\n",
    "not_found = []"
   ]
  },
  {
   "cell_type": "code",
   "execution_count": null,
   "metadata": {},
   "outputs": [],
   "source": [
    "for movie in movie_list:\n",
    "    response = requests.get(url + movie + api_key)\n",
    "    if response.ok:\n",
    "        response_json = response.json()\n",
    "        cities_gathered.append(response_json['name'])\n",
    "        city_lats.append(response_json['coord']['lat'])\n",
    "        city_longs.append(response_json['coord']['lon'])\n",
    "        city_temps.append(response_json['main']['temp_max'])\n",
    "        city_hums.append(response_json['main']['humidity'])\n",
    "        city_clouds.append(response_json['clouds']['all'])\n",
    "        city_winds.append(response_json['wind']['speed'])     \n",
    "        countries_gathered.append(response_json['sys']['country'])\n",
    "        city_dates.append(response_json['dt']) \n",
    "    else:\n",
    "        print('Movie not found. Skipping...')"
   ]
  },
  {
   "cell_type": "code",
   "execution_count": 25,
   "metadata": {},
   "outputs": [
    {
     "name": "stdout",
     "output_type": "stream",
     "text": [
      "{'Actors': 'Crystal Fox, Phylicia Rashad, Bresha Webb, Mehcad Brooks',\n",
      " 'Awards': 'N/A',\n",
      " 'BoxOffice': 'N/A',\n",
      " 'Country': 'USA',\n",
      " 'DVD': 'N/A',\n",
      " 'Director': 'Tyler Perry',\n",
      " 'Genre': 'Drama, Thriller',\n",
      " 'Language': 'English',\n",
      " 'Metascore': '34',\n",
      " 'Plot': \"Disheartened since her ex-husband's affair, Grace Waters feels \"\n",
      "         'restored by a new romance. But when secrets erode her short-lived '\n",
      "         \"joy, Grace's vulnerable side turns violent.\",\n",
      " 'Poster': 'https://m.media-amazon.com/images/M/MV5BNDM2YjliZDUtZWUzYi00ZDY4LWJlMTEtZGZiZDViZjJiMTllXkEyXkFqcGdeQXVyODk4OTc3MTY@._V1_SX300.jpg',\n",
      " 'Production': 'N/A',\n",
      " 'Rated': 'TV-MA',\n",
      " 'Ratings': [{'Source': 'Internet Movie Database', 'Value': '5.9/10'},\n",
      "             {'Source': 'Metacritic', 'Value': '34/100'}],\n",
      " 'Released': '17 Jan 2020',\n",
      " 'Response': 'True',\n",
      " 'Runtime': '115 min',\n",
      " 'Title': 'A Fall from Grace',\n",
      " 'Type': 'movie',\n",
      " 'Website': 'N/A',\n",
      " 'Writer': 'Tyler Perry',\n",
      " 'Year': '2020',\n",
      " 'imdbID': 'tt11390036',\n",
      " 'imdbRating': '5.9',\n",
      " 'imdbVotes': '10,188'}\n"
     ]
    }
   ],
   "source": [
    "response = requests.get(url + \"A Fall from Grace\" + api_key)\n",
    "data = response.json()\n",
    "pprint(data)"
   ]
  },
  {
   "cell_type": "code",
   "execution_count": null,
   "metadata": {},
   "outputs": [],
   "source": [
    "om_actors = data['Actors']\n",
    "om_awards = data['Awards']\n",
    "om_boxoffice = data['BoxOffice']\n",
    "om_country = data['Country']\n",
    "om_dvd = data['DVD']\n",
    "om_director = data['Director']\n",
    "om_genre = data['Genre']\n",
    "om_language = data['Language']\n",
    "om_metascore = data['Metascore']\n",
    "om_plot = data['Plot']\n",
    "om_poster = data['Poster']\n",
    "om_production = data['Production']\n",
    "om_rated = data['Rated']\n",
    "om_released = data['Released']\n",
    "om_response = data['Response']\n",
    "om_runtime = data['Runtime']\n",
    "om_title = data['Title']\n",
    "om_type = data['Type']\n",
    "om_website = data['Website']\n",
    "om_writer = data['Writer']\n",
    "om_year = data['Year']\n",
    "om_imdbID = data['imdbID']\n",
    "om_imdbRating = data['imdbRating']\n",
    "om_imdbVotes = data['imdbVotes']\n",
    "\n",
    "\n",
    "om_rating_imdb = ''\n",
    "om_rating_rotten = ''\n",
    "om_rating_metacritic = ''\n",
    "\n",
    "\n",
    "rating_length = len(data['Ratings'])\n",
    "ratings = data['Ratings']\n",
    "print(rating_length)\n",
    "for rating in ratings:\n",
    "    if rating['Source'] == 'Internet Movie Database':\n",
    "        om_rating_imdb = rating['Value']\n",
    "    elif rating['Source'] == 'Rotten Tomatoes':\n",
    "        om_rating_rotten = rating['Value']\n",
    "    elif rating['Source'] == 'Metacritic':\n",
    "        om_rating_metacritic = rating['Value']\n",
    "    else:\n",
    "        print('No Rating')"
   ]
  },
  {
   "cell_type": "code",
   "execution_count": 26,
   "metadata": {},
   "outputs": [
    {
     "name": "stdout",
     "output_type": "stream",
     "text": [
      "2\n",
      "5.9/10\n",
      "34/100\n"
     ]
    }
   ],
   "source": [
    "\n",
    "    "
   ]
  },
  {
   "cell_type": "code",
   "execution_count": 8,
   "metadata": {},
   "outputs": [
    {
     "name": "stdout",
     "output_type": "stream",
     "text": [
      "Peter Cullen, Sumalee Montano, Jeffrey Combs, Frank Welker\n"
     ]
    }
   ],
   "source": [
    "actors = data['Actors']\n",
    "print(actors)"
   ]
  },
  {
   "cell_type": "code",
   "execution_count": null,
   "metadata": {},
   "outputs": [],
   "source": []
  }
 ],
 "metadata": {
  "kernelspec": {
   "display_name": "Python 3",
   "language": "python",
   "name": "python3"
  },
  "language_info": {
   "codemirror_mode": {
    "name": "ipython",
    "version": 3
   },
   "file_extension": ".py",
   "mimetype": "text/x-python",
   "name": "python",
   "nbconvert_exporter": "python",
   "pygments_lexer": "ipython3",
   "version": "3.8.3"
  }
 },
 "nbformat": 4,
 "nbformat_minor": 4
}
