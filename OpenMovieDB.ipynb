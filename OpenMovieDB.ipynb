{
 "cells": [
  {
   "cell_type": "code",
   "execution_count": 4,
   "metadata": {},
   "outputs": [],
   "source": [
    "import requests\n",
    "import json\n",
    "from pprint import pprint\n",
    "\n",
    "from api_keys import movie_key"
   ]
  },
  {
   "cell_type": "code",
   "execution_count": 5,
   "metadata": {},
   "outputs": [],
   "source": [
    "url = \"http://www.omdbapi.com/?t=\"\n",
    "api_key = \"&apikey=\" + movie_key\n",
    "movie_name = ''"
   ]
  },
  {
   "cell_type": "code",
   "execution_count": null,
   "metadata": {},
   "outputs": [],
   "source": [
    "movie_list = ['Norm of the North: King Sized Adventure',\n",
    "              'Jandino: Whatever it Takes',\n",
    "              'Transformers Prime',\n",
    "              'Transformers: Robots in Disguise',\n",
    "              '#realityhigh',\n",
    "              'Apaches',\n",
    "              'Automata',\n",
    "              'Fabrizio Copano: Solo pienso en mi',\n",
    "              'Fire Chasers',\n",
    "              'Good People',\n",
    "              'JoaquÃ­n Reyes: Una y no mÃ¡s',\n",
    "              'Kidnapping Mr. Heineken',\n",
    "              'Krish Trish and Baltiboy',\n",
    "              'Krish Trish and Baltiboy: Battle of Wits',\n",
    "              'Krish Trish and Baltiboy: Best Friends Forever',\n",
    "              'Krish Trish and Baltiboy: Comics of India',\n",
    "              'Krish Trish and Baltiboy: Oversmartness Never Pays',\n",
    "              'Krish Trish and Baltiboy: Part II',\n",
    "              'Krish Trish and Baltiboy: The Greatest Trick']"
   ]
  },
  {
   "cell_type": "code",
   "execution_count": null,
   "metadata": {},
   "outputs": [],
   "source": []
  },
  {
   "cell_type": "code",
   "execution_count": 6,
   "metadata": {},
   "outputs": [
    {
     "name": "stdout",
     "output_type": "stream",
     "text": [
      "{'Actors': 'Peter Cullen, Sumalee Montano, Jeffrey Combs, Frank Welker',\n",
      " 'Awards': '14 wins & 26 nominations.',\n",
      " 'Country': 'USA',\n",
      " 'Director': 'N/A',\n",
      " 'Genre': 'Animation, Action, Adventure, Comedy, Drama, Family, Sci-Fi',\n",
      " 'Language': 'English',\n",
      " 'Metascore': 'N/A',\n",
      " 'Plot': 'In this new set of adventures the Autobots live on Earth and '\n",
      "         'maintain their secret identity. They are joined by 3 teens as they '\n",
      "         'battle the Decepticons.',\n",
      " 'Poster': 'https://m.media-amazon.com/images/M/MV5BMTczNDM3MzY1Nl5BMl5BanBnXkFtZTcwOTg5NjU1OQ@@._V1_SX300.jpg',\n",
      " 'Rated': 'TV-Y7',\n",
      " 'Ratings': [{'Source': 'Internet Movie Database', 'Value': '7.9/10'}],\n",
      " 'Released': '26 Nov 2010',\n",
      " 'Response': 'True',\n",
      " 'Runtime': '30 min',\n",
      " 'Title': 'Transformers Prime',\n",
      " 'Type': 'series',\n",
      " 'Writer': 'N/A',\n",
      " 'Year': '2010–2013',\n",
      " 'imdbID': 'tt1659175',\n",
      " 'imdbRating': '7.9',\n",
      " 'imdbVotes': '5,258',\n",
      " 'totalSeasons': '3'}\n"
     ]
    }
   ],
   "source": [
    "response = requests.get(url + \"Transformers Prime\" + api_key)\n",
    "data = response.json()\n",
    "pprint(data)"
   ]
  },
  {
   "cell_type": "code",
   "execution_count": null,
   "metadata": {},
   "outputs": [],
   "source": []
  },
  {
   "cell_type": "code",
   "execution_count": 8,
   "metadata": {},
   "outputs": [
    {
     "name": "stdout",
     "output_type": "stream",
     "text": [
      "Peter Cullen, Sumalee Montano, Jeffrey Combs, Frank Welker\n"
     ]
    }
   ],
   "source": [
    "actors = data['Actors']\n",
    "print(actors)"
   ]
  },
  {
   "cell_type": "code",
   "execution_count": null,
   "metadata": {},
   "outputs": [],
   "source": []
  }
 ],
 "metadata": {
  "kernelspec": {
   "display_name": "Python 3",
   "language": "python",
   "name": "python3"
  },
  "language_info": {
   "codemirror_mode": {
    "name": "ipython",
    "version": 3
   },
   "file_extension": ".py",
   "mimetype": "text/x-python",
   "name": "python",
   "nbconvert_exporter": "python",
   "pygments_lexer": "ipython3",
   "version": "3.8.3"
  }
 },
 "nbformat": 4,
 "nbformat_minor": 4
}
